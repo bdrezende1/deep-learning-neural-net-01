{
  "nbformat": 4,
  "nbformat_minor": 0,
  "metadata": {
    "colab": {
      "provenance": []
    },
    "kernelspec": {
      "name": "python3",
      "display_name": "Python 3"
    },
    "language_info": {
      "name": "python"
    }
  },
  "cells": [
    {
      "cell_type": "markdown",
      "source": [
        "# Problema MNIST"
      ],
      "metadata": {
        "id": "gjLb-yR71MVF"
      }
    },
    {
      "cell_type": "markdown",
      "source": [
        "## O Problema MNIST e a Solução com InceptionV3\n",
        "### Introdução\n",
        "Como programador de deep learning, minha tarefa é resolver problemas complexos de reconhecimento de padrões e imagens. Vou explicar o problema do MNIST e como podemos resolvê-lo utilizando o modelo InceptionV3.\n",
        "\n",
        "### O Problema MNIST\n",
        "O conjunto de dados MNIST (Modified National Institute of Standards and Technology) é um benchmark clássico no campo de aprendizado de máquina. Ele consiste em 60.000 imagens de treino e 10.000 imagens de teste de dígitos manuscritos (0-9), cada uma em uma matriz de 28x28 pixels. O objetivo é classificar corretamente esses dígitos com um modelo de reconhecimento de padrões. Este problema é comumente utilizado para testar e comparar a eficácia de diferentes algoritmos de aprendizado de máquina.\n",
        "\n",
        "https://yann.lecun.com/exdb/mnist/\n",
        "\n",
        "### Descrição do Modelo InceptionV3\n",
        "O InceptionV3 é uma arquitetura de rede neural convolucional avançada desenvolvida pelo Google. Ele é conhecido por sua eficiência e precisão em tarefas de classificação de imagens. O modelo é composto por vários blocos de camadas convolucionais que permitem a extração de características a diferentes escalas, tornando-o robusto para a detecção de padrões complexos.\n",
        "\n",
        "https://keras.io/api/applications/inceptionv3/"
      ],
      "metadata": {
        "id": "8zngHTiUBoxU"
      }
    },
    {
      "cell_type": "code",
      "execution_count": 1,
      "metadata": {
        "id": "pCcNsBlb0Vs2"
      },
      "outputs": [],
      "source": [
        "import numpy as np\n",
        "import torch\n",
        "import torch.nn.functional as F\n",
        "import torchvision\n",
        "import matplotlib.pyplot as plt\n",
        "from time import time\n",
        "from torchvision import datasets, transforms\n",
        "from torch import nn, optim"
      ]
    },
    {
      "cell_type": "code",
      "source": [
        "transform = transforms.ToTensor() # definindo a conversão de imagem para tensor\n",
        "\n",
        "trainset = datasets.MNIST('./MNIST_data/', download=True, train=True, transform=transform) # Carrega a parte de treino do dataset\n",
        "trainloader = torch.utils.data.DataLoader(trainset, batch_size=64, shuffle=True) # Cria um buffer para pegar os dados por partes\n",
        "\n",
        "valset = datasets.MNIST('./MNIST_data/', download=True, train=False, transform=transform) # Carrega a parte de validação do dataset\n",
        "valloader = torch.utils.data.DataLoader(valset, batch_size=64, shuffle=True) # Cria um buffer para pegar os dados por partes"
      ],
      "metadata": {
        "id": "5FwDWIb61gEa"
      },
      "execution_count": 2,
      "outputs": []
    },
    {
      "cell_type": "code",
      "source": [
        "# Conferindo se a estrutura de dados está representando a imagem corretamente\n",
        "\n",
        "dataiter = iter(trainloader)\n",
        "imagens, etiquetas = next(dataiter)\n",
        "plt.imshow(imagens[0].numpy().squeeze(), cmap='gray_r')\n"
      ],
      "metadata": {
        "colab": {
          "base_uri": "https://localhost:8080/",
          "height": 447
        },
        "id": "N40Yl-nC2qBm",
        "outputId": "77f586b4-51e1-4229-d10d-6a789cdde1c6"
      },
      "execution_count": 3,
      "outputs": [
        {
          "output_type": "execute_result",
          "data": {
            "text/plain": [
              "<matplotlib.image.AxesImage at 0x7ecfaea64730>"
            ]
          },
          "metadata": {},
          "execution_count": 3
        },
        {
          "output_type": "display_data",
          "data": {
            "text/plain": [
              "<Figure size 640x480 with 1 Axes>"
            ],
            "image/png": "[encoded data removed]"
          },
          "metadata": {}
        }
      ]
    },
    {
      "cell_type": "code",
      "source": [
        "# Verificaras dimensões do tensor para img e etiqueta\n",
        "\n",
        "print(imagens[0].shape)\n",
        "print(etiquetas[0].shape)"
      ],
      "metadata": {
        "colab": {
          "base_uri": "https://localhost:8080/"
        },
        "id": "HTtTh1TD4awC",
        "outputId": "ae75cf6c-03e5-4bb7-c86f-5ee6061bc1b4"
      },
      "execution_count": 4,
      "outputs": [
        {
          "output_type": "stream",
          "name": "stdout",
          "text": [
            "torch.Size([1, 28, 28])\n",
            "torch.Size([])\n"
          ]
        }
      ]
    },
    {
      "cell_type": "code",
      "source": [
        "# Estrutura da rede InceptionV3 - Keras\n",
        "\n",
        "class Modelo(nn.Module):\n",
        "\n",
        "  def __init__(self):\n",
        "    super(Modelo, self).__init__()\n",
        "    self.linear1 = nn.Linear(28*28, 128) # layer de entrada, 784 neurônios que se ligam a 128\n",
        "    self.linear2 = nn.Linear(128, 64) # layer intermédio, 128 neurônios que se ligam a 64\n",
        "    self.linear3 = nn.Linear(64, 10) # layer de saída, 64 neurônios que se ligam a 10\n",
        "    # para a camada de saída não é necessário definir nada pois só precisamos pegar o output da camada interna 2\n",
        "\n",
        "  def forward(self, X):\n",
        "    X = F.relu(self.linear1(X)) # função de ativação ReLU da camada de entrada para a camada interna 1\n",
        "    X = F.relu(self.linear2(X)) # função de ativação ReLU da camada interna 1 para a camada interna 2\n",
        "    X = self.linear3(X) # Não precisamos de uma função de ativação na camada de saída pois ela é uma regressão linear\n",
        "    return F.log_softmax(X, dim=1) # aplica a função de log_softmax para calcular a perda"
      ],
      "metadata": {
        "id": "wF-fhV7p4fpr"
      },
      "execution_count": 5,
      "outputs": []
    },
    {
      "cell_type": "code",
      "source": [
        "# Otimizador\n",
        "def treino(modelo, trainloader, device):\n",
        "\n",
        "  otimizador = optim.SGD(modelo.parameters(), lr=0.01, momentum=0.5) # otimizador estocástico gradiente, define a política de atualizaação dos pesos e da bias\n",
        "  inicio = time() # marca o tempo de início do treinamento\n",
        "\n",
        "  criterio = nn.NLLLoss() # função de perda\n",
        "  EPOCHS = 10 # número de epochs que o algoritmo rodará\n",
        "  modelo.train() # ativando o modo de treinamento do modelo\n",
        "\n",
        "  for epoch in range(EPOCHS):\n",
        "    perda_acumulada = 0 # variável para acumular a perda\n",
        "\n",
        "    for imagens, etiquetas in trainloader:\n",
        "\n",
        "      imagens = imagens.view(imagens.shape[0], -1) # redimensionando as imagens, convertendo as imagens para \"vetores\" de 28*28 casas ficarem compatíveis\n",
        "      otimizador.zero_grad() # zerando os gradientes por conta do ciclo anterior\n",
        "\n",
        "      output = modelo(imagens.to(device)) # passando as imagens para o modelo\n",
        "      perda_instantanea = criterio(output, etiquetas.to(device)) # calculando a perda do epoch em questão\n",
        "\n",
        "      perda_instantanea.backward() # fazendo a backpropagation a partir da perda\n",
        "\n",
        "      otimizador.step() # atualizando os pesos e bias\n",
        "\n",
        "      perda_acumulada += perda_instantanea.item() # atualizando a perda acumulada\n",
        "\n",
        "    else:\n",
        "      print(\"Epoch {} - Perda resultante: {}\".format(epoch+1, perda_acumulada/len(trainloader)))\n",
        "\n",
        "  print(\"\\nTempo de treino (em minutos) =\",(time()-inicio)/60)"
      ],
      "metadata": {
        "id": "zj7daC3j8kjA"
      },
      "execution_count": 6,
      "outputs": []
    },
    {
      "cell_type": "code",
      "source": [
        "# Realizando a validação\n",
        "\n",
        "def validacao(modelo, valloader, device):\n",
        "  conta_corretas, conta_todas = 0, 0\n",
        "  for imagens, etiquetas in valloader:\n",
        "    for i in range(len(etiquetas)):\n",
        "      img = imagens[i].view(1, 784)\n",
        "      # desativar o auto_grad para acelerar a validação. Grafos computacionais dinâmicos tem um custo alto de processamento\n",
        "      with torch.no_grad():\n",
        "        logps = modelo(img.to(device)) # saída do modelo em escala logarítmica\n",
        "\n",
        "      ps = torch.exp(logps) # converte a saída do modelo em escala linear\n",
        "      probab = list(ps.cpu().numpy()[0])\n",
        "      etiqueta_pred = probab.index(max(probab)) # converte o tensor em um número, no caso, o número que o modelo previu como correto\n",
        "      etiqueta_certa = etiquetas.numpy()[i]\n",
        "      if(etiqueta_certa == etiqueta_pred): # compara a previsão com o valor correto\n",
        "        conta_corretas += 1\n",
        "      conta_todas += 1\n",
        "\n",
        "  print(\"Total de imagens testadas =\", conta_todas)\n",
        "  print(\"\\nPrecisão do modelo = {}%\".format(conta_corretas*100/conta_todas))"
      ],
      "metadata": {
        "id": "psj24B_D-rho"
      },
      "execution_count": 7,
      "outputs": []
    },
    {
      "cell_type": "code",
      "source": [
        "# Leitura do modelo\n",
        "\n",
        "modelo = Modelo()\n",
        "device = torch.device(\"cuda\" if torch.cuda.is_available() else \"cpu\")\n",
        "modelo.to(device)"
      ],
      "metadata": {
        "colab": {
          "base_uri": "https://localhost:8080/"
        },
        "id": "gnqG2WOWAGJa",
        "outputId": "32db9ffd-2cae-4425-a43c-66a1651783a4"
      },
      "execution_count": 8,
      "outputs": [
        {
          "output_type": "execute_result",
          "data": {
            "text/plain": [
              "Modelo(\n",
              "  (linear1): Linear(in_features=784, out_features=128, bias=True)\n",
              "  (linear2): Linear(in_features=128, out_features=64, bias=True)\n",
              "  (linear3): Linear(in_features=64, out_features=10, bias=True)\n",
              ")"
            ]
          },
          "metadata": {},
          "execution_count": 8
        }
      ]
    }
  ]
}